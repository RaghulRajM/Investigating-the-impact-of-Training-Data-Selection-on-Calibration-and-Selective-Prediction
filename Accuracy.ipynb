{
  "nbformat": 4,
  "nbformat_minor": 0,
  "metadata": {
    "colab": {
      "name": "Accuracy.ipynb",
      "provenance": []
    },
    "kernelspec": {
      "name": "python3",
      "display_name": "Python 3"
    },
    "language_info": {
      "name": "python"
    }
  },
  "cells": [
    {
      "cell_type": "markdown",
      "metadata": {
        "id": "kt292DHruFzp"
      },
      "source": [
        "# Reqs"
      ]
    },
    {
      "cell_type": "code",
      "metadata": {
        "id": "I20k2P2SuCgF"
      },
      "source": [
        "from sklearn import metrics\n",
        "import tqdm\n",
        "import matplotlib.pyplot as plt\n",
        "import numpy as np\n",
        "import pandas as pd\n",
        "from statistics import mean"
      ],
      "execution_count": null,
      "outputs": []
    },
    {
      "cell_type": "markdown",
      "metadata": {
        "id": "Hp5T7cqhuekH"
      },
      "source": [
        "# Global Vars"
      ]
    },
    {
      "cell_type": "code",
      "metadata": {
        "id": "VbodoLcDug19"
      },
      "source": [
        "DATASET = \"commonsense\"\n",
        "NUM_LABELS = 5\n",
        "EPOCH_START = 5"
      ],
      "execution_count": null,
      "outputs": []
    },
    {
      "cell_type": "markdown",
      "metadata": {
        "id": "i7rSgayLuMDn"
      },
      "source": [
        "# Function Defs"
      ]
    },
    {
      "cell_type": "code",
      "metadata": {
        "id": "P5Y30WhquORV"
      },
      "source": [
        "def get_risk_coverage_info(prob_list, em_list):\n",
        "    num1 = int(len(prob_list)/2)\n",
        "    num2 = len(prob_list) - num1\n",
        "    sources = [0 for i in range(num1)]\n",
        "    sources.extend([1 for i in range(num2)])\n",
        "    assert len(sources) == len(prob_list)\n",
        "    tuples = [(x,y,z) for x,y,z in zip(prob_list, em_list, sources)]\n",
        "    sorted_tuples = sorted(tuples, key=lambda x: -x[0])\n",
        "    sorted_probs = [x[0] for x in sorted_tuples]\n",
        "    sorted_em = [x[1] for x in sorted_tuples]\n",
        "    sorted_sources = [x[2] for x in sorted_tuples]\n",
        "    total_questions = len(sorted_em)\n",
        "    total_correct = 0\n",
        "    covered = 0\n",
        "    risks = []\n",
        "    coverages = []\n",
        "\n",
        "    for em, prob in zip(sorted_em, sorted_probs):\n",
        "        covered += 1\n",
        "        if em:\n",
        "            total_correct += 1\n",
        "        risks.append(1 - (total_correct/covered))\n",
        "        coverages.append(covered/total_questions)        \n",
        "    auc = round(metrics.auc(coverages, risks), 4)\n",
        "\n",
        "    \n",
        "    return risks, coverages, auc, sorted_sources, sorted_em, sorted_probs\n",
        "\n",
        "def get_coverage_cutoff(risks, accuracy_cutoff):\n",
        "    index = len(risks)\n",
        "    while risks[index-1] >= (1.0-accuracy_cutoff) and index > 0:\n",
        "        index -= 1\n",
        "    return index\n",
        "\n",
        "def auc_show(probs, correct, plot_graph=False):\n",
        "    import matplotlib.pyplot as plt\n",
        "    import numpy as np\n",
        "\n",
        "    all_risks, all_coverages, all_aucs = [], [], []\n",
        "    all_sorted_sources, all_sorted_em = [], []\n",
        "\n",
        "    risks, coverages, auc, sorted_sources, sorted_em, sorted_probs = get_risk_coverage_info(probs, correct)\n",
        "\n",
        "    all_risks.append(risks)\n",
        "    all_coverages.append(coverages)\n",
        "    all_aucs.append(auc)\n",
        "    all_sorted_sources.append(sorted_sources)\n",
        "    all_sorted_em.append(sorted_em)\n",
        "    \n",
        "    avg_risks = np.mean(all_risks, axis=0)\n",
        "    avg_coverages = np.mean(all_coverages, axis=0)\n",
        "    \n",
        "    avg_auc = np.mean(all_aucs)\n",
        "\n",
        "    \n",
        "\n",
        "    values = list(np.arange(99.5, 1, -0.5))\n",
        "    for i in values:\n",
        "        index = get_coverage_cutoff(avg_risks, i/100) - 1\n",
        "        cov = round((100 * avg_coverages[index]), 4)\n",
        "        prob = sorted_probs[index]\n",
        "        if(cov == 100):\n",
        "            break\n",
        "\n",
        "    if(plot_graph):\n",
        "        plt.plot(coverages,risks)\n",
        "        plt.show()\n",
        "        \n",
        "    return round(100*avg_auc, 2), coverages, risks\n",
        "\n",
        "\n",
        "def get_auc(df, plot_graph=False):\n",
        "    accuracy = round(100*df[\"correct\"].mean(),2)\n",
        "    achieved_auc, coverages, risks = auc_show(list(df[\"maxProb\"]), list(df[\"correct\"]), plot_graph=plot_graph)\n",
        "    \n",
        "    dev_len = df.shape[0] + 1\n",
        "    ideal_probs_list = np.asarray(range(dev_len)[1:])/dev_len \n",
        "    em_list = df[\"correct\"]\n",
        "    em_list = np.sort(em_list)\n",
        "    min_auc, min_coverages, min_risks = auc_show(list(ideal_probs_list), list(em_list))\n",
        "    \n",
        "    return (accuracy, achieved_auc, min_auc, coverages, risks)"
      ],
      "execution_count": null,
      "outputs": []
    },
    {
      "cell_type": "markdown",
      "metadata": {
        "id": "21BPW2YOuV39"
      },
      "source": [
        "# Calculate Accuracy and Selective Pred\n"
      ]
    },
    {
      "cell_type": "code",
      "metadata": {
        "id": "R8zFPdt_uY5y"
      },
      "source": [
        "\n",
        "results = []\n",
        "num_labels = 5\n",
        "\n",
        "for segment in [\"baseline\", \"easy\", \"amb\", \"hard\", \"mixed\"]:\n",
        "    for epoch in range(EPOCH_START-1,5):\n",
        "        df = pd.read_csv(f\"/content/drive/MyDrive/NLP/data/{DATASET}/segments/{segment}/epoch_{epoch}_predictions.csv\")\n",
        "        cols = list(map(str, list(range(NUM_LABELS))))\n",
        "        df[\"maxProb\"] = df[cols].max(axis=1)\n",
        "        df[\"correct\"] = df[\"label\"] == df[\"prediction\"]\n",
        "        (accuracy, achieved_auc, min_auc, coverages, risks) = get_auc(df)\n",
        "        results.append([segment, epoch, accuracy, achieved_auc])\n",
        "\n",
        "acc = pd.DataFrame(data=results, columns=[\"segment\", \"epoch\", \"accuracy\", \"selective_pred\"])"
      ],
      "execution_count": null,
      "outputs": []
    },
    {
      "cell_type": "code",
      "metadata": {
        "colab": {
          "base_uri": "https://localhost:8080/",
          "height": 206
        },
        "id": "b55E4A17uvJ8",
        "outputId": "4f0ae0fb-7e29-4b6a-ff4b-f6a7ff6321ab"
      },
      "source": [
        "acc"
      ],
      "execution_count": null,
      "outputs": [
        {
          "output_type": "execute_result",
          "data": {
            "text/html": [
              "<div>\n",
              "<style scoped>\n",
              "    .dataframe tbody tr th:only-of-type {\n",
              "        vertical-align: middle;\n",
              "    }\n",
              "\n",
              "    .dataframe tbody tr th {\n",
              "        vertical-align: top;\n",
              "    }\n",
              "\n",
              "    .dataframe thead th {\n",
              "        text-align: right;\n",
              "    }\n",
              "</style>\n",
              "<table border=\"1\" class=\"dataframe\">\n",
              "  <thead>\n",
              "    <tr style=\"text-align: right;\">\n",
              "      <th></th>\n",
              "      <th>segment</th>\n",
              "      <th>epoch</th>\n",
              "      <th>accuracy</th>\n",
              "      <th>selective_pred</th>\n",
              "    </tr>\n",
              "  </thead>\n",
              "  <tbody>\n",
              "    <tr>\n",
              "      <th>0</th>\n",
              "      <td>baseline</td>\n",
              "      <td>4</td>\n",
              "      <td>38.90</td>\n",
              "      <td>51.78</td>\n",
              "    </tr>\n",
              "    <tr>\n",
              "      <th>1</th>\n",
              "      <td>easy</td>\n",
              "      <td>4</td>\n",
              "      <td>51.35</td>\n",
              "      <td>34.71</td>\n",
              "    </tr>\n",
              "    <tr>\n",
              "      <th>2</th>\n",
              "      <td>amb</td>\n",
              "      <td>4</td>\n",
              "      <td>34.07</td>\n",
              "      <td>61.30</td>\n",
              "    </tr>\n",
              "    <tr>\n",
              "      <th>3</th>\n",
              "      <td>hard</td>\n",
              "      <td>4</td>\n",
              "      <td>39.89</td>\n",
              "      <td>53.45</td>\n",
              "    </tr>\n",
              "    <tr>\n",
              "      <th>4</th>\n",
              "      <td>mixed</td>\n",
              "      <td>4</td>\n",
              "      <td>49.39</td>\n",
              "      <td>39.37</td>\n",
              "    </tr>\n",
              "  </tbody>\n",
              "</table>\n",
              "</div>"
            ],
            "text/plain": [
              "    segment  epoch  accuracy  selective_pred\n",
              "0  baseline      4     38.90           51.78\n",
              "1      easy      4     51.35           34.71\n",
              "2       amb      4     34.07           61.30\n",
              "3      hard      4     39.89           53.45\n",
              "4     mixed      4     49.39           39.37"
            ]
          },
          "metadata": {},
          "execution_count": 18
        }
      ]
    },
    {
      "cell_type": "code",
      "metadata": {
        "colab": {
          "base_uri": "https://localhost:8080/",
          "height": 424
        },
        "id": "4dN7m8OCwY8c",
        "outputId": "3cb4c3b7-34a4-4005-a09e-1bd188206127"
      },
      "source": [
        "df = pd.read_csv(f\"/content/drive/MyDrive/NLP/data/{DATASET}/segments/easy/epoch_4_predictions.csv\")\n",
        "df\n",
        "# cols = list(map(str, list(range(NUM_LABELS))))\n",
        "# cols"
      ],
      "execution_count": null,
      "outputs": [
        {
          "output_type": "execute_result",
          "data": {
            "text/html": [
              "<div>\n",
              "<style scoped>\n",
              "    .dataframe tbody tr th:only-of-type {\n",
              "        vertical-align: middle;\n",
              "    }\n",
              "\n",
              "    .dataframe tbody tr th {\n",
              "        vertical-align: top;\n",
              "    }\n",
              "\n",
              "    .dataframe thead th {\n",
              "        text-align: right;\n",
              "    }\n",
              "</style>\n",
              "<table border=\"1\" class=\"dataframe\">\n",
              "  <thead>\n",
              "    <tr style=\"text-align: right;\">\n",
              "      <th></th>\n",
              "      <th>label</th>\n",
              "      <th>prediction</th>\n",
              "      <th>0</th>\n",
              "      <th>1</th>\n",
              "      <th>2</th>\n",
              "      <th>3</th>\n",
              "      <th>4</th>\n",
              "    </tr>\n",
              "  </thead>\n",
              "  <tbody>\n",
              "    <tr>\n",
              "      <th>0</th>\n",
              "      <td>0</td>\n",
              "      <td>3</td>\n",
              "      <td>0.000055</td>\n",
              "      <td>0.000018</td>\n",
              "      <td>0.003448</td>\n",
              "      <td>0.996437</td>\n",
              "      <td>0.000042</td>\n",
              "    </tr>\n",
              "    <tr>\n",
              "      <th>1</th>\n",
              "      <td>0</td>\n",
              "      <td>0</td>\n",
              "      <td>0.998663</td>\n",
              "      <td>0.001296</td>\n",
              "      <td>0.000012</td>\n",
              "      <td>0.000018</td>\n",
              "      <td>0.000011</td>\n",
              "    </tr>\n",
              "    <tr>\n",
              "      <th>2</th>\n",
              "      <td>1</td>\n",
              "      <td>1</td>\n",
              "      <td>0.000001</td>\n",
              "      <td>0.999988</td>\n",
              "      <td>0.000005</td>\n",
              "      <td>0.000003</td>\n",
              "      <td>0.000003</td>\n",
              "    </tr>\n",
              "    <tr>\n",
              "      <th>3</th>\n",
              "      <td>0</td>\n",
              "      <td>0</td>\n",
              "      <td>0.999899</td>\n",
              "      <td>0.000095</td>\n",
              "      <td>0.000002</td>\n",
              "      <td>0.000003</td>\n",
              "      <td>0.000001</td>\n",
              "    </tr>\n",
              "    <tr>\n",
              "      <th>4</th>\n",
              "      <td>0</td>\n",
              "      <td>1</td>\n",
              "      <td>0.000069</td>\n",
              "      <td>0.483494</td>\n",
              "      <td>0.265376</td>\n",
              "      <td>0.250912</td>\n",
              "      <td>0.000148</td>\n",
              "    </tr>\n",
              "    <tr>\n",
              "      <th>...</th>\n",
              "      <td>...</td>\n",
              "      <td>...</td>\n",
              "      <td>...</td>\n",
              "      <td>...</td>\n",
              "      <td>...</td>\n",
              "      <td>...</td>\n",
              "      <td>...</td>\n",
              "    </tr>\n",
              "    <tr>\n",
              "      <th>1216</th>\n",
              "      <td>0</td>\n",
              "      <td>3</td>\n",
              "      <td>0.108532</td>\n",
              "      <td>0.396002</td>\n",
              "      <td>0.010684</td>\n",
              "      <td>0.482796</td>\n",
              "      <td>0.001985</td>\n",
              "    </tr>\n",
              "    <tr>\n",
              "      <th>1217</th>\n",
              "      <td>1</td>\n",
              "      <td>1</td>\n",
              "      <td>0.026704</td>\n",
              "      <td>0.969329</td>\n",
              "      <td>0.000007</td>\n",
              "      <td>0.003953</td>\n",
              "      <td>0.000007</td>\n",
              "    </tr>\n",
              "    <tr>\n",
              "      <th>1218</th>\n",
              "      <td>2</td>\n",
              "      <td>2</td>\n",
              "      <td>0.000002</td>\n",
              "      <td>0.001485</td>\n",
              "      <td>0.998507</td>\n",
              "      <td>0.000003</td>\n",
              "      <td>0.000003</td>\n",
              "    </tr>\n",
              "    <tr>\n",
              "      <th>1219</th>\n",
              "      <td>0</td>\n",
              "      <td>0</td>\n",
              "      <td>0.909117</td>\n",
              "      <td>0.000006</td>\n",
              "      <td>0.000004</td>\n",
              "      <td>0.000007</td>\n",
              "      <td>0.090866</td>\n",
              "    </tr>\n",
              "    <tr>\n",
              "      <th>1220</th>\n",
              "      <td>2</td>\n",
              "      <td>2</td>\n",
              "      <td>0.005461</td>\n",
              "      <td>0.004250</td>\n",
              "      <td>0.989881</td>\n",
              "      <td>0.000180</td>\n",
              "      <td>0.000226</td>\n",
              "    </tr>\n",
              "  </tbody>\n",
              "</table>\n",
              "<p>1221 rows × 7 columns</p>\n",
              "</div>"
            ],
            "text/plain": [
              "      label  prediction         0         1         2         3         4\n",
              "0         0           3  0.000055  0.000018  0.003448  0.996437  0.000042\n",
              "1         0           0  0.998663  0.001296  0.000012  0.000018  0.000011\n",
              "2         1           1  0.000001  0.999988  0.000005  0.000003  0.000003\n",
              "3         0           0  0.999899  0.000095  0.000002  0.000003  0.000001\n",
              "4         0           1  0.000069  0.483494  0.265376  0.250912  0.000148\n",
              "...     ...         ...       ...       ...       ...       ...       ...\n",
              "1216      0           3  0.108532  0.396002  0.010684  0.482796  0.001985\n",
              "1217      1           1  0.026704  0.969329  0.000007  0.003953  0.000007\n",
              "1218      2           2  0.000002  0.001485  0.998507  0.000003  0.000003\n",
              "1219      0           0  0.909117  0.000006  0.000004  0.000007  0.090866\n",
              "1220      2           2  0.005461  0.004250  0.989881  0.000180  0.000226\n",
              "\n",
              "[1221 rows x 7 columns]"
            ]
          },
          "metadata": {},
          "execution_count": 12
        }
      ]
    }
  ]
}